{
 "cells": [
  {
   "cell_type": "code",
   "execution_count": 18,
   "id": "60ef9507",
   "metadata": {},
   "outputs": [],
   "source": [
    "import numpy as np\n",
    "import pandas as pd\n",
    "import matplotlib.pyplot as plt"
   ]
  },
  {
   "cell_type": "code",
   "execution_count": 19,
   "id": "7ed1d76c",
   "metadata": {},
   "outputs": [],
   "source": [
    "ds_train = pd.read_csv('Google_Stock_Price_Train.csv')\n",
    "training_set = ds_train.iloc[:,1:2].values"
   ]
  },
  {
   "cell_type": "code",
   "execution_count": 20,
   "id": "7332ce2b",
   "metadata": {
    "scrolled": true
   },
   "outputs": [
    {
     "name": "stdout",
     "output_type": "stream",
     "text": [
      "[[325.25]\n",
      " [331.27]\n",
      " [329.83]\n",
      " ...\n",
      " [793.7 ]\n",
      " [783.33]\n",
      " [782.75]]\n"
     ]
    }
   ],
   "source": [
    "print(training_set)"
   ]
  },
  {
   "cell_type": "code",
   "execution_count": 21,
   "id": "aa0d0dd4",
   "metadata": {},
   "outputs": [],
   "source": [
    "from sklearn.preprocessing import MinMaxScaler\n",
    "sc = MinMaxScaler(feature_range = (0,1))\n",
    "training_set_scaled = sc.fit_transform(training_set)"
   ]
  },
  {
   "cell_type": "code",
   "execution_count": 34,
   "id": "53698ca8",
   "metadata": {},
   "outputs": [],
   "source": [
    "x_train = []\n",
    "y_train = []\n",
    "for i in range(60,1258):\n",
    "    x_train.append(training_set_scaled[i-60:i, 0])\n",
    "    y_train.append(training_set_scaled[i,0])\n",
    "x_train, y_train = np.array(x_train), np.array(y_train)"
   ]
  },
  {
   "cell_type": "code",
   "execution_count": 35,
   "id": "41ff9ce2",
   "metadata": {},
   "outputs": [
    {
     "name": "stdout",
     "output_type": "stream",
     "text": [
      "[[0.08581368 0.09701243 0.09433366 ... 0.07846566 0.08034452 0.08497656]\n",
      " [0.09701243 0.09433366 0.09156187 ... 0.08034452 0.08497656 0.08627874]\n",
      " [0.09433366 0.09156187 0.07984225 ... 0.08497656 0.08627874 0.08471612]\n",
      " ...\n",
      " [0.92106928 0.92438053 0.93048218 ... 0.95475854 0.95204256 0.95163331]\n",
      " [0.92438053 0.93048218 0.9299055  ... 0.95204256 0.95163331 0.95725128]\n",
      " [0.93048218 0.9299055  0.93113327 ... 0.95163331 0.95725128 0.93796041]]\n"
     ]
    }
   ],
   "source": [
    "print(x_train)"
   ]
  },
  {
   "cell_type": "code",
   "execution_count": 36,
   "id": "fc156ab5",
   "metadata": {},
   "outputs": [],
   "source": [
    "x_train = np.reshape(x_train, (x_train.shape[0],x_train.shape[1],1))"
   ]
  },
  {
   "cell_type": "code",
   "execution_count": 37,
   "id": "6a64e37f",
   "metadata": {},
   "outputs": [],
   "source": [
    "from keras.models import Sequential\n",
    "from keras.layers import Dense\n",
    "from keras.layers import LSTM\n",
    "from keras.layers import Dropout"
   ]
  },
  {
   "cell_type": "code",
   "execution_count": 38,
   "id": "921f48f3",
   "metadata": {},
   "outputs": [],
   "source": [
    "regressor = Sequential()"
   ]
  },
  {
   "cell_type": "code",
   "execution_count": 39,
   "id": "bf2614fe",
   "metadata": {},
   "outputs": [],
   "source": [
    "regressor.add(LSTM(units= 50, return_sequences= True, input_shape = (x_train.shape[1],1)))\n",
    "regressor.add(Dropout(0.2))"
   ]
  },
  {
   "cell_type": "code",
   "execution_count": 40,
   "id": "29ec6814",
   "metadata": {},
   "outputs": [],
   "source": [
    "regressor.add(LSTM(units= 50, return_sequences= True))\n",
    "regressor.add(Dropout(0.2))"
   ]
  },
  {
   "cell_type": "code",
   "execution_count": 41,
   "id": "ea888f4f",
   "metadata": {},
   "outputs": [],
   "source": [
    "regressor.add(LSTM(units= 50, return_sequences= True))\n",
    "regressor.add(Dropout(0.2))"
   ]
  },
  {
   "cell_type": "code",
   "execution_count": 42,
   "id": "f7a31e7a",
   "metadata": {},
   "outputs": [],
   "source": [
    "regressor.add(LSTM(units= 50))\n",
    "regressor.add(Dropout(0.2)) "
   ]
  },
  {
   "cell_type": "code",
   "execution_count": 43,
   "id": "c38fc832",
   "metadata": {},
   "outputs": [],
   "source": [
    "regressor.add(Dense(units = 1))"
   ]
  },
  {
   "cell_type": "code",
   "execution_count": 44,
   "id": "302b132e",
   "metadata": {},
   "outputs": [],
   "source": [
    "regressor.compile(optimizer= 'adam', loss= 'mean_squared_error')"
   ]
  },
  {
   "cell_type": "code",
   "execution_count": 45,
   "id": "5e6e7b80",
   "metadata": {},
   "outputs": [
    {
     "name": "stdout",
     "output_type": "stream",
     "text": [
      "Epoch 1/100\n",
      "38/38 [==============================] - 14s 120ms/step - loss: 0.0419\n",
      "Epoch 2/100\n",
      "38/38 [==============================] - 5s 122ms/step - loss: 0.0065\n",
      "Epoch 3/100\n",
      "38/38 [==============================] - 4s 115ms/step - loss: 0.0054\n",
      "Epoch 4/100\n",
      "38/38 [==============================] - 4s 116ms/step - loss: 0.0046\n",
      "Epoch 5/100\n",
      "38/38 [==============================] - 4s 116ms/step - loss: 0.0051\n",
      "Epoch 6/100\n",
      "38/38 [==============================] - 4s 115ms/step - loss: 0.0053\n",
      "Epoch 7/100\n",
      "38/38 [==============================] - 4s 115ms/step - loss: 0.0040\n",
      "Epoch 8/100\n",
      "38/38 [==============================] - 5s 119ms/step - loss: 0.0047\n",
      "Epoch 9/100\n",
      "38/38 [==============================] - 5s 124ms/step - loss: 0.0052\n",
      "Epoch 10/100\n",
      "38/38 [==============================] - 5s 120ms/step - loss: 0.0044\n",
      "Epoch 11/100\n",
      "38/38 [==============================] - 4s 115ms/step - loss: 0.0041\n",
      "Epoch 12/100\n",
      "38/38 [==============================] - 4s 117ms/step - loss: 0.0042\n",
      "Epoch 13/100\n",
      "38/38 [==============================] - 4s 116ms/step - loss: 0.0042\n",
      "Epoch 14/100\n",
      "38/38 [==============================] - 4s 117ms/step - loss: 0.0040\n",
      "Epoch 15/100\n",
      "38/38 [==============================] - 3s 81ms/step - loss: 0.0037\n",
      "Epoch 16/100\n",
      "38/38 [==============================] - 3s 68ms/step - loss: 0.0037\n",
      "Epoch 17/100\n",
      "38/38 [==============================] - 3s 66ms/step - loss: 0.0034\n",
      "Epoch 18/100\n",
      "38/38 [==============================] - 3s 70ms/step - loss: 0.0039\n",
      "Epoch 19/100\n",
      "38/38 [==============================] - 3s 71ms/step - loss: 0.0035\n",
      "Epoch 20/100\n",
      "38/38 [==============================] - 3s 71ms/step - loss: 0.0034\n",
      "Epoch 21/100\n",
      "38/38 [==============================] - 3s 70ms/step - loss: 0.0032\n",
      "Epoch 22/100\n",
      "38/38 [==============================] - 3s 72ms/step - loss: 0.0031\n",
      "Epoch 23/100\n",
      "38/38 [==============================] - 3s 70ms/step - loss: 0.0043\n",
      "Epoch 24/100\n",
      "38/38 [==============================] - 3s 70ms/step - loss: 0.0036\n",
      "Epoch 25/100\n",
      "38/38 [==============================] - 3s 70ms/step - loss: 0.0034\n",
      "Epoch 26/100\n",
      "38/38 [==============================] - 3s 67ms/step - loss: 0.0031\n",
      "Epoch 27/100\n",
      "38/38 [==============================] - 3s 68ms/step - loss: 0.0033\n",
      "Epoch 28/100\n",
      "38/38 [==============================] - 3s 69ms/step - loss: 0.0031\n",
      "Epoch 29/100\n",
      "38/38 [==============================] - 3s 73ms/step - loss: 0.0031\n",
      "Epoch 30/100\n",
      "38/38 [==============================] - 3s 72ms/step - loss: 0.0031\n",
      "Epoch 31/100\n",
      "38/38 [==============================] - 3s 71ms/step - loss: 0.0031\n",
      "Epoch 32/100\n",
      "38/38 [==============================] - 3s 72ms/step - loss: 0.0026\n",
      "Epoch 33/100\n",
      "38/38 [==============================] - 3s 69ms/step - loss: 0.0031\n",
      "Epoch 34/100\n",
      "38/38 [==============================] - 3s 72ms/step - loss: 0.0031\n",
      "Epoch 35/100\n",
      "38/38 [==============================] - 3s 69ms/step - loss: 0.0029\n",
      "Epoch 36/100\n",
      "38/38 [==============================] - 3s 70ms/step - loss: 0.0031\n",
      "Epoch 37/100\n",
      "38/38 [==============================] - 3s 66ms/step - loss: 0.0026\n",
      "Epoch 38/100\n",
      "38/38 [==============================] - 3s 67ms/step - loss: 0.0026\n",
      "Epoch 39/100\n",
      "38/38 [==============================] - 3s 71ms/step - loss: 0.0026\n",
      "Epoch 40/100\n",
      "38/38 [==============================] - 3s 72ms/step - loss: 0.0028\n",
      "Epoch 41/100\n",
      "38/38 [==============================] - 3s 84ms/step - loss: 0.0027\n",
      "Epoch 42/100\n",
      "38/38 [==============================] - 3s 77ms/step - loss: 0.0029\n",
      "Epoch 43/100\n",
      "38/38 [==============================] - 3s 76ms/step - loss: 0.0028\n",
      "Epoch 44/100\n",
      "38/38 [==============================] - 3s 76ms/step - loss: 0.0026\n",
      "Epoch 45/100\n",
      "38/38 [==============================] - 3s 77ms/step - loss: 0.0023\n",
      "Epoch 46/100\n",
      "38/38 [==============================] - 3s 92ms/step - loss: 0.0023\n",
      "Epoch 47/100\n",
      "38/38 [==============================] - 3s 72ms/step - loss: 0.0025\n",
      "Epoch 48/100\n",
      "38/38 [==============================] - 3s 71ms/step - loss: 0.0023\n",
      "Epoch 49/100\n",
      "38/38 [==============================] - 3s 72ms/step - loss: 0.0024\n",
      "Epoch 50/100\n",
      "38/38 [==============================] - 3s 73ms/step - loss: 0.0022\n",
      "Epoch 51/100\n",
      "38/38 [==============================] - 3s 76ms/step - loss: 0.0022\n",
      "Epoch 52/100\n",
      "38/38 [==============================] - 3s 73ms/step - loss: 0.0022\n",
      "Epoch 53/100\n",
      "38/38 [==============================] - 3s 72ms/step - loss: 0.0021\n",
      "Epoch 54/100\n",
      "38/38 [==============================] - 3s 66ms/step - loss: 0.0022\n",
      "Epoch 55/100\n",
      "38/38 [==============================] - 2s 65ms/step - loss: 0.0022\n",
      "Epoch 56/100\n",
      "38/38 [==============================] - 2s 58ms/step - loss: 0.0022\n",
      "Epoch 57/100\n",
      "38/38 [==============================] - 2s 56ms/step - loss: 0.0025\n",
      "Epoch 58/100\n",
      "38/38 [==============================] - 2s 59ms/step - loss: 0.0019\n",
      "Epoch 59/100\n",
      "38/38 [==============================] - 2s 59ms/step - loss: 0.0023\n",
      "Epoch 60/100\n",
      "38/38 [==============================] - 2s 60ms/step - loss: 0.0021\n",
      "Epoch 61/100\n",
      "38/38 [==============================] - 2s 62ms/step - loss: 0.0020\n",
      "Epoch 62/100\n",
      "38/38 [==============================] - 2s 64ms/step - loss: 0.0021\n",
      "Epoch 63/100\n",
      "38/38 [==============================] - 3s 66ms/step - loss: 0.0018\n",
      "Epoch 64/100\n",
      "38/38 [==============================] - 3s 68ms/step - loss: 0.0021\n",
      "Epoch 65/100\n",
      "38/38 [==============================] - 3s 86ms/step - loss: 0.0019\n",
      "Epoch 66/100\n",
      "38/38 [==============================] - 3s 82ms/step - loss: 0.0020\n",
      "Epoch 67/100\n",
      "38/38 [==============================] - 3s 75ms/step - loss: 0.0019\n",
      "Epoch 68/100\n",
      "38/38 [==============================] - 3s 82ms/step - loss: 0.0019\n",
      "Epoch 69/100\n",
      "38/38 [==============================] - 3s 72ms/step - loss: 0.0021\n",
      "Epoch 70/100\n",
      "38/38 [==============================] - 3s 80ms/step - loss: 0.0019\n",
      "Epoch 71/100\n",
      "38/38 [==============================] - 3s 80ms/step - loss: 0.0019\n",
      "Epoch 72/100\n",
      "38/38 [==============================] - 3s 75ms/step - loss: 0.0017\n",
      "Epoch 73/100\n",
      "38/38 [==============================] - 3s 76ms/step - loss: 0.0020\n",
      "Epoch 74/100\n",
      "38/38 [==============================] - 3s 77ms/step - loss: 0.0018\n",
      "Epoch 75/100\n",
      "38/38 [==============================] - 3s 72ms/step - loss: 0.0018\n",
      "Epoch 76/100\n",
      "38/38 [==============================] - 3s 72ms/step - loss: 0.0017\n",
      "Epoch 77/100\n",
      "38/38 [==============================] - 3s 72ms/step - loss: 0.0017\n",
      "Epoch 78/100\n",
      "38/38 [==============================] - 3s 67ms/step - loss: 0.0016\n",
      "Epoch 79/100\n",
      "38/38 [==============================] - 3s 67ms/step - loss: 0.0016\n",
      "Epoch 80/100\n",
      "38/38 [==============================] - 3s 67ms/step - loss: 0.0018\n",
      "Epoch 81/100\n",
      "38/38 [==============================] - 3s 69ms/step - loss: 0.0016\n",
      "Epoch 82/100\n",
      "38/38 [==============================] - 3s 74ms/step - loss: 0.0016\n",
      "Epoch 83/100\n",
      "38/38 [==============================] - 3s 69ms/step - loss: 0.0015\n",
      "Epoch 84/100\n",
      "38/38 [==============================] - 3s 69ms/step - loss: 0.0015\n",
      "Epoch 85/100\n",
      "38/38 [==============================] - 3s 69ms/step - loss: 0.0016\n",
      "Epoch 86/100\n",
      "38/38 [==============================] - 3s 68ms/step - loss: 0.0016\n",
      "Epoch 87/100\n",
      "38/38 [==============================] - 3s 68ms/step - loss: 0.0017\n",
      "Epoch 88/100\n",
      "38/38 [==============================] - 3s 74ms/step - loss: 0.0015\n",
      "Epoch 89/100\n",
      "38/38 [==============================] - 3s 70ms/step - loss: 0.0015\n",
      "Epoch 90/100\n",
      "38/38 [==============================] - 3s 73ms/step - loss: 0.0015\n",
      "Epoch 91/100\n",
      "38/38 [==============================] - 3s 67ms/step - loss: 0.0015\n",
      "Epoch 92/100\n",
      "38/38 [==============================] - 3s 69ms/step - loss: 0.0016\n",
      "Epoch 93/100\n",
      "38/38 [==============================] - 3s 68ms/step - loss: 0.0015\n",
      "Epoch 94/100\n",
      "38/38 [==============================] - 3s 69ms/step - loss: 0.0015\n",
      "Epoch 95/100\n",
      "38/38 [==============================] - 3s 69ms/step - loss: 0.0013\n",
      "Epoch 96/100\n",
      "38/38 [==============================] - 3s 69ms/step - loss: 0.0013\n",
      "Epoch 97/100\n",
      "38/38 [==============================] - 3s 69ms/step - loss: 0.0014\n",
      "Epoch 98/100\n",
      "38/38 [==============================] - 3s 69ms/step - loss: 0.0014\n",
      "Epoch 99/100\n",
      "38/38 [==============================] - 3s 69ms/step - loss: 0.0016\n",
      "Epoch 100/100\n",
      "38/38 [==============================] - 3s 68ms/step - loss: 0.0014\n"
     ]
    },
    {
     "data": {
      "text/plain": [
       "<keras.callbacks.History at 0x2560c945b50>"
      ]
     },
     "execution_count": 45,
     "metadata": {},
     "output_type": "execute_result"
    }
   ],
   "source": [
    "regressor.fit(x_train, y_train, epochs= 100, batch_size = 32)"
   ]
  },
  {
   "cell_type": "code",
   "execution_count": 46,
   "id": "f33ca69c",
   "metadata": {},
   "outputs": [],
   "source": [
    "ds_test = pd.read_csv('Google_Stock_Price_Test.csv')\n",
    "real_stock_price = ds_test.iloc[:,1:2].values"
   ]
  },
  {
   "cell_type": "code",
   "execution_count": 47,
   "id": "7a5f136f",
   "metadata": {},
   "outputs": [
    {
     "name": "stdout",
     "output_type": "stream",
     "text": [
      "1/1 [==============================] - 1s 1s/step\n"
     ]
    }
   ],
   "source": [
    "ds_total = pd.concat((ds_train['Open'], ds_test['Open']), axis= 0)\n",
    "inputs = ds_total[len(ds_total) - len(ds_test) - 60:].values\n",
    "inputs = inputs.reshape(-1,1)\n",
    "inputs = sc.transform(inputs)\n",
    "x_test = []\n",
    "for i in range(60,80):\n",
    "    x_test.append(inputs[i-60:i, 0])\n",
    "x_test = np.array(x_test)\n",
    "x_test= np.reshape(x_test, (x_test.shape[0],x_test.shape[1],1))\n",
    "predicted_stock_price = regressor.predict(x_test)\n",
    "predicted_stock_price = sc.inverse_transform(predicted_stock_price) "
   ]
  },
  {
   "cell_type": "code",
   "execution_count": 48,
   "id": "ffbaf11e",
   "metadata": {},
   "outputs": [
    {
     "name": "stdout",
     "output_type": "stream",
     "text": [
      "[[772.60443]\n",
      " [769.55536]\n",
      " [770.4345 ]\n",
      " [772.4082 ]\n",
      " [776.3252 ]\n",
      " [782.7819 ]\n",
      " [787.9566 ]\n",
      " [789.064  ]\n",
      " [788.4759 ]\n",
      " [787.9008 ]\n",
      " [787.835  ]\n",
      " [787.9255 ]\n",
      " [788.0433 ]\n",
      " [788.8534 ]\n",
      " [789.9333 ]\n",
      " [795.3193 ]\n",
      " [802.88916]\n",
      " [810.35834]\n",
      " [813.24396]\n",
      " [806.64294]]\n"
     ]
    }
   ],
   "source": [
    "print(predicted_stock_price)"
   ]
  },
  {
   "cell_type": "code",
   "execution_count": 52,
   "id": "a6543216",
   "metadata": {},
   "outputs": [
    {
     "data": {
      "image/png": "[encoded data removed]",
      "text/plain": [
       "<Figure size 640x480 with 1 Axes>"
      ]
     },
     "metadata": {},
     "output_type": "display_data"
    }
   ],
   "source": [
    "plt.plot(real_stock_price, color= 'red', label= 'Real Stock Price')\n",
    "plt.plot(predicted_stock_price, color= 'blue', label= 'Predicted Stock Price')\n",
    "plt.title('Google Stock Price Prediction')\n",
    "plt.xlabel('Time')\n",
    "plt.ylabel('Stock Price')\n",
    "plt.legend()\n",
    "plt.show()"
   ]
  },
  {
   "cell_type": "code",
   "execution_count": null,
   "id": "0fb25f21",
   "metadata": {},
   "outputs": [],
   "source": []
  }
 ],
 "metadata": {
  "kernelspec": {
   "display_name": "Python 3 (ipykernel)",
   "language": "python",
   "name": "python3"
  },
  "language_info": {
   "codemirror_mode": {
    "name": "ipython",
    "version": 3
   },
   "file_extension": ".py",
   "mimetype": "text/x-python",
   "name": "python",
   "nbconvert_exporter": "python",
   "pygments_lexer": "ipython3",
   "version": "3.9.13"
  }
 },
 "nbformat": 4,
 "nbformat_minor": 5
}
